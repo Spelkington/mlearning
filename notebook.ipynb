{
 "cells": [
  {
   "cell_type": "code",
   "execution_count": 1,
   "metadata": {},
   "outputs": [],
   "source": [
    "%reload_ext autoreload\n",
    "%autoreload 2\n",
    "import pandas as pd\n",
    "import numpy as np \n",
    "from splearn.DecisionTree.DecisionTree import DecisionTree"
   ]
  },
  {
   "cell_type": "code",
   "execution_count": 2,
   "metadata": {},
   "outputs": [
    {
     "data": {
      "text/html": "<div>\n<style scoped>\n    .dataframe tbody tr th:only-of-type {\n        vertical-align: middle;\n    }\n\n    .dataframe tbody tr th {\n        vertical-align: top;\n    }\n\n    .dataframe thead th {\n        text-align: right;\n    }\n</style>\n<table border=\"1\" class=\"dataframe\">\n  <thead>\n    <tr style=\"text-align: right;\">\n      <th></th>\n      <th>age</th>\n      <th>job</th>\n      <th>marital</th>\n      <th>edu</th>\n      <th>default</th>\n      <th>balance</th>\n      <th>housing</th>\n      <th>loan</th>\n      <th>contact</th>\n      <th>day</th>\n      <th>month</th>\n      <th>duration</th>\n      <th>campaign</th>\n      <th>pdays</th>\n      <th>previous</th>\n      <th>poutcome</th>\n      <th>y</th>\n    </tr>\n  </thead>\n  <tbody>\n    <tr>\n      <th>0</th>\n      <td>41</td>\n      <td>services</td>\n      <td>married</td>\n      <td>secondary</td>\n      <td>no</td>\n      <td>0</td>\n      <td>yes</td>\n      <td>no</td>\n      <td>unknown</td>\n      <td>5</td>\n      <td>may</td>\n      <td>114</td>\n      <td>2</td>\n      <td>-1</td>\n      <td>0</td>\n      <td>unknown</td>\n      <td>no</td>\n    </tr>\n    <tr>\n      <th>1</th>\n      <td>48</td>\n      <td>blue-collar</td>\n      <td>single</td>\n      <td>secondary</td>\n      <td>no</td>\n      <td>312</td>\n      <td>yes</td>\n      <td>yes</td>\n      <td>cellular</td>\n      <td>3</td>\n      <td>feb</td>\n      <td>369</td>\n      <td>2</td>\n      <td>-1</td>\n      <td>0</td>\n      <td>unknown</td>\n      <td>no</td>\n    </tr>\n    <tr>\n      <th>2</th>\n      <td>55</td>\n      <td>technician</td>\n      <td>married</td>\n      <td>secondary</td>\n      <td>no</td>\n      <td>1938</td>\n      <td>no</td>\n      <td>yes</td>\n      <td>cellular</td>\n      <td>18</td>\n      <td>aug</td>\n      <td>193</td>\n      <td>1</td>\n      <td>386</td>\n      <td>3</td>\n      <td>success</td>\n      <td>yes</td>\n    </tr>\n    <tr>\n      <th>3</th>\n      <td>54</td>\n      <td>admin.</td>\n      <td>married</td>\n      <td>tertiary</td>\n      <td>no</td>\n      <td>59</td>\n      <td>yes</td>\n      <td>no</td>\n      <td>cellular</td>\n      <td>10</td>\n      <td>jul</td>\n      <td>268</td>\n      <td>1</td>\n      <td>-1</td>\n      <td>0</td>\n      <td>unknown</td>\n      <td>no</td>\n    </tr>\n    <tr>\n      <th>4</th>\n      <td>34</td>\n      <td>management</td>\n      <td>single</td>\n      <td>tertiary</td>\n      <td>no</td>\n      <td>2646</td>\n      <td>no</td>\n      <td>no</td>\n      <td>cellular</td>\n      <td>14</td>\n      <td>apr</td>\n      <td>142</td>\n      <td>1</td>\n      <td>-1</td>\n      <td>0</td>\n      <td>unknown</td>\n      <td>yes</td>\n    </tr>\n  </tbody>\n</table>\n</div>",
      "text/plain": "   age          job  marital        edu default  balance housing loan  \\\n0   41     services  married  secondary      no        0     yes   no   \n1   48  blue-collar   single  secondary      no      312     yes  yes   \n2   55   technician  married  secondary      no     1938      no  yes   \n3   54       admin.  married   tertiary      no       59     yes   no   \n4   34   management   single   tertiary      no     2646      no   no   \n\n    contact  day month  duration  campaign  pdays  previous poutcome    y  \n0   unknown    5   may       114         2     -1         0  unknown   no  \n1  cellular    3   feb       369         2     -1         0  unknown   no  \n2  cellular   18   aug       193         1    386         3  success  yes  \n3  cellular   10   jul       268         1     -1         0  unknown   no  \n4  cellular   14   apr       142         1     -1         0  unknown  yes  "
     },
     "execution_count": 2,
     "metadata": {},
     "output_type": "execute_result"
    }
   ],
   "source": [
    "bank_data: pd.DataFrame = pd.read_csv(\"data/bank/train.csv\")\n",
    "bank_data.head()"
   ]
  },
  {
   "cell_type": "code",
   "execution_count": 3,
   "metadata": {},
   "outputs": [],
   "source": [
    "from sklearn.model_selection import train_test_split\n",
    "\n",
    "features = bank_data[bank_data.columns[:-1]]\n",
    "target = bank_data[bank_data.columns[-1]]\n",
    "\n",
    "X_train, X_test, y_train, y_test = train_test_split(features, target, train_size = 0.2)"
   ]
  },
  {
   "cell_type": "code",
   "execution_count": 4,
   "metadata": {},
   "outputs": [
    {
     "name": "stdout",
     "output_type": "stream",
     "text": [
      "0.88275\n",
      "0.88275\n"
     ]
    }
   ],
   "source": [
    "from splearn.DecisionTree.DecisionTree import DecisionTree\n",
    "import sklearn.metrics as skmet\n",
    "import splearn.Metrics as spmet\n",
    "\n",
    "bank_dt: DecisionTree = DecisionTree()\n",
    "bank_dt.train(\n",
    "    X_train,\n",
    "    y_train,\n",
    "    gain=\"entropy\",\n",
    "    max_depth=2\n",
    ")\n",
    "\n",
    "preds = bank_dt.predict(X_test)\n",
    "\n",
    "print(skmet.accuracy_score(y_test, preds))\n",
    "print(spmet.accuracy_score(y_test, preds))"
   ]
  },
  {
   "cell_type": "code",
   "execution_count": 5,
   "metadata": {},
   "outputs": [
    {
     "name": "stdout",
     "output_type": "stream",
     "text": [
      "0.88275\n",
      "0.8838691577105724\n"
     ]
    }
   ],
   "source": [
    "from splearn.DecisionTree.DecisionTree import DecisionTree\n",
    "import sklearn.metrics as skmet\n",
    "import splearn.Metrics as spmet\n",
    "\n",
    "\n",
    "\n",
    "wght_train = pd.Series(np.array([i+1 for i in range(len(y_train))]))\n",
    "wght_test = pd.Series(np.array([i+1 for i in range(len(y_test))]))\n",
    "\n",
    "wght_train.index = X_train.index\n",
    "wght_test.index = X_test.index\n",
    "\n",
    "bank_dt: DecisionTree = DecisionTree()\n",
    "bank_dt.train(\n",
    "    X_train,\n",
    "    y_train,\n",
    "    weights=wght_train,\n",
    "    gain=\"entropy\",\n",
    "    max_depth=2\n",
    ")\n",
    "\n",
    "preds = bank_dt.predict(X_test)\n",
    "\n",
    "print(skmet.accuracy_score(y_test, preds))\n",
    "print(spmet.accuracy_score(y_test, preds, wght_test))"
   ]
  },
  {
   "cell_type": "code",
   "execution_count": 6,
   "metadata": {},
   "outputs": [
    {
     "name": "stdout",
     "output_type": "stream",
     "text": [
      "Model trained!\n",
      "0.8773134328358209\n",
      "[[2939  411]\n",
      " [   0    0]]\n",
      "\n",
      "0.8844776119402985\n",
      "[[2934  382]\n",
      " [   5   29]]\n"
     ]
    }
   ],
   "source": [
    "from splearn.EnsembleLearning.EnsembleLearning import AdaBooster\n",
    "from sklearn.metrics import confusion_matrix\n",
    "\n",
    "X_train, X_test, y_train, y_test = train_test_split(features, target, train_size = 0.33)\n",
    "\n",
    "ab = AdaBooster(DecisionTree)\n",
    "ab.train(\n",
    "    X_train,\n",
    "    y_train,\n",
    "    10,\n",
    "    learning_rate = 1,\n",
    "    learner_args={\n",
    "        \"gain\": \"entropy\",\n",
    "        \"max_depth\": 2\n",
    "    }\n",
    ")\n",
    "print(\"Model trained!\")\n",
    "\n",
    "dt = DecisionTree()\n",
    "dt.train(X_train, y_train, gain=\"entropy\", max_depth = 2)\n",
    "\n",
    "dt_preds = dt.predict(X_test)\n",
    "ab_preds = ab.predict(X_test)\n",
    "\n",
    "\n",
    "print(spmet.accuracy_score(dt_preds, y_test))\n",
    "print(confusion_matrix(dt_preds, y_test))\n",
    "print()\n",
    "print(spmet.accuracy_score(ab_preds, y_test))\n",
    "print(confusion_matrix(ab_preds, y_test))"
   ]
  },
  {
   "cell_type": "code",
   "execution_count": null,
   "metadata": {},
   "outputs": [],
   "source": []
  },
  {
   "cell_type": "code",
   "execution_count": null,
   "metadata": {},
   "outputs": [],
   "source": []
  },
  {
   "cell_type": "code",
   "execution_count": null,
   "metadata": {},
   "outputs": [],
   "source": []
  },
  {
   "cell_type": "code",
   "execution_count": null,
   "metadata": {},
   "outputs": [],
   "source": []
  },
  {
   "cell_type": "code",
   "execution_count": 28,
   "metadata": {},
   "outputs": [
    {
     "name": "stdout",
     "output_type": "stream",
     "text": [
      "Size 0 complete!\n",
      "Size 10 complete!\n",
      "Size 20 complete!\n",
      "Size 30 complete!\n",
      "Size 40 complete!\n",
      "Size 50 complete!\n",
      "Size 60 complete!\n",
      "Size 70 complete!\n",
      "Size 80 complete!\n",
      "Size 90 complete!\n",
      "Size 100 complete!\n",
      "Size 110 complete!\n",
      "Size 120 complete!\n",
      "Size 130 complete!\n",
      "Size 140 complete!\n",
      "Size 150 complete!\n",
      "Size 160 complete!\n",
      "Size 170 complete!\n",
      "Size 180 complete!\n",
      "Size 190 complete!\n",
      "Size 200 complete!\n",
      "Size 210 complete!\n",
      "Size 220 complete!\n",
      "Size 230 complete!\n",
      "Size 240 complete!\n",
      "Size 250 complete!\n",
      "Size 260 complete!\n",
      "Size 270 complete!\n",
      "Size 280 complete!\n",
      "Size 290 complete!\n",
      "Size 300 complete!\n",
      "Size 310 complete!\n",
      "Size 320 complete!\n",
      "Size 330 complete!\n",
      "Size 340 complete!\n",
      "Size 350 complete!\n",
      "Size 360 complete!\n",
      "Size 370 complete!\n",
      "Size 380 complete!\n",
      "Size 390 complete!\n",
      "Size 400 complete!\n",
      "Size 410 complete!\n",
      "Size 420 complete!\n",
      "Size 430 complete!\n",
      "Size 440 complete!\n",
      "Size 450 complete!\n",
      "Size 460 complete!\n",
      "Size 470 complete!\n",
      "Size 480 complete!\n",
      "Size 490 complete!\n"
     ]
    }
   ],
   "source": [
    "X_train, X_test, y_train, y_test = train_test_split(features, target, train_size = 0.33)\n",
    "\n",
    "rates = [\n",
    "    \"entropy\",\n",
    "    \"majority error\",\n",
    "    \"gini\"\n",
    "]\n",
    "iters = 500\n",
    "\n",
    "data = np.zeros((iters // 10, len(rates)))\n",
    "\n",
    "boosters = {}\n",
    "for r in rates:\n",
    "    ab = AdaBooster(DecisionTree)\n",
    "    ab.train(\n",
    "        X_train,\n",
    "        y_train, \n",
    "        iterations = 0,\n",
    "        learning_rate=1,\n",
    "        learner_args = {\n",
    "            \"gain\": r,\n",
    "            \"max_depth\": 2\n",
    "        }\n",
    "    )\n",
    "    boosters[r] = ab\n",
    "\n",
    "for i in range(iters // 10):\n",
    "\n",
    "    for j, r in enumerate(rates):\n",
    "\n",
    "        boosters[r].iterate(10)\n",
    "        preds = boosters[r].predict(X_test)\n",
    "\n",
    "        data[i, j] = spmet.accuracy_score(preds, y_test)\n",
    "\n",
    "    print(f'Size {i * 10} complete!')\n",
    "\n"
   ]
  },
  {
   "cell_type": "code",
   "execution_count": 26,
   "metadata": {},
   "outputs": [
    {
     "data": {
      "text/plain": "0.8755223880597015"
     },
     "execution_count": 26,
     "metadata": {},
     "output_type": "execute_result"
    }
   ],
   "source": [
    "dt = DecisionTree()\n",
    "dt.train(X_train, y_train, gain=\"entropy\", max_depth = 2)\n",
    "\n",
    "dt_preds = dt.predict(X_test)\n",
    "spmet.accuracy_score(dt_preds, y_test)"
   ]
  },
  {
   "cell_type": "code",
   "execution_count": 27,
   "metadata": {},
   "outputs": [
    {
     "data": {
      "text/plain": "<AxesSubplot:>"
     },
     "execution_count": 27,
     "metadata": {},
     "output_type": "execute_result"
    },
    {
     "data": {
      "image/png": "[encoded data removed]",
      "text/plain": "<Figure size 432x288 with 1 Axes>"
     },
     "metadata": {
      "needs_background": "light"
     },
     "output_type": "display_data"
    }
   ],
   "source": [
    "results = pd.DataFrame(data, columns=rates)\n",
    "results.plot()"
   ]
  }
 ],
 "metadata": {
  "kernelspec": {
   "display_name": "Python 3.8.5 64-bit ('base': conda)",
   "name": "python385jvsc74a57bd0efbb5f7d76e5561efa460d8a45b55d0b8eb2623c98d4274e36b0d68e9bc5c8fe"
  },
  "language_info": {
   "codemirror_mode": {
    "name": "ipython",
    "version": 3
   },
   "file_extension": ".py",
   "mimetype": "text/x-python",
   "name": "python",
   "nbconvert_exporter": "python",
   "pygments_lexer": "ipython3",
   "version": "3.8.5"
  },
  "orig_nbformat": 2
 },
 "nbformat": 4,
 "nbformat_minor": 2
}