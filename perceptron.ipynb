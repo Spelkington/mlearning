{
 "cells": [
  {
   "cell_type": "code",
   "execution_count": 1,
   "metadata": {},
   "outputs": [],
   "source": [
    "%reload_ext autoreload\n",
    "%autoreload 2\n",
    "import pandas as pd\n",
    "import numpy as np"
   ]
  },
  {
   "cell_type": "code",
   "execution_count": 2,
   "metadata": {},
   "outputs": [],
   "source": [
    "train = pd.read_csv(\"data/bank-note/train.csv\")\n",
    "test     = pd.read_csv(\"data/bank-note/test.csv\")\n",
    "\n",
    "X_train = train[train.columns[:-1]]\n",
    "X_test  = test [test.columns[:-1]]\n",
    "\n",
    "y_train = train[train.columns[-1]] \n",
    "y_test =  test [test.columns[-1]]"
   ]
  },
  {
   "cell_type": "code",
   "execution_count": 3,
   "metadata": {},
   "outputs": [
    {
     "name": "stdout",
     "output_type": "stream",
     "text": [
      "        var      skew     curt   entropy\n",
      "0  3.848100  10.15390 -3.85610  -4.22280\n",
      "1  4.004700   0.45937  1.36210   1.61810\n",
      "2 -0.048008  -1.60370  8.47560   0.75558\n",
      "3 -1.266700   2.81830 -2.42600  -1.88620\n",
      "4  2.203400   5.99470  0.53009   0.84998\n",
      "\n",
      "0    0\n",
      "1    0\n",
      "2    0\n",
      "3    1\n",
      "4    0\n",
      "Name:  y, dtype: int64\n"
     ]
    }
   ],
   "source": [
    "print(X_train.head())\n",
    "print()\n",
    "print(y_train.head())"
   ]
  },
  {
   "cell_type": "code",
   "execution_count": 120,
   "metadata": {},
   "outputs": [
    {
     "data": {
      "text/plain": "0.8325688073394495"
     },
     "execution_count": 120,
     "metadata": {},
     "output_type": "execute_result"
    }
   ],
   "source": [
    "import splearn.Perceptron.Perceptron as perc\n",
    "\n",
    "p = perc.StdPerceptron()\n",
    "\n",
    "p.train(\n",
    "    X_train,\n",
    "    y_train,\n",
    "    1000\n",
    ")\n",
    "\n",
    "preds = p.predict(X_train)\n",
    "\n",
    "from splearn.Metrics import accuracy_score\n",
    "\n",
    "accuracy_score(y_train, preds)"
   ]
  },
  {
   "cell_type": "code",
   "execution_count": 125,
   "metadata": {},
   "outputs": [
    {
     "data": {
      "text/plain": "<AxesSubplot:>"
     },
     "execution_count": 125,
     "metadata": {},
     "output_type": "execute_result"
    },
    {
     "data": {
      "image/png": "[encoded data removed]",
      "text/plain": "<Figure size 432x288 with 1 Axes>"
     },
     "metadata": {
      "needs_background": "light"
     },
     "output_type": "display_data"
    }
   ],
   "source": [
    "import splearn.Perceptron.Perceptron as perc\n",
    "from splearn.Metrics import accuracy_score\n",
    "\n",
    "num_epochs = 1000\n",
    "data = np.zeros((num_epochs, 2))\n",
    "\n",
    "p = perc.StdPerceptron()\n",
    "p.train(\n",
    "    X_train,\n",
    "    y_train,\n",
    "    0\n",
    ")\n",
    "\n",
    "for i in range(num_epochs):\n",
    "\n",
    "    p.add_batch(\n",
    "        X_train,\n",
    "        y_train,\n",
    "        1\n",
    "    )\n",
    "\n",
    "    p_train = p.predict(X_train)\n",
    "    p_test  = p.predict(X_test)\n",
    "\n",
    "    data[i][0] = accuracy_score(y_train, p_train)\n",
    "    data[i][1] = accuracy_score(y_test, p_test)\n",
    "\n",
    "df = pd.DataFrame(data, columns=[\"train\", \"test\"])\n",
    "df.plot()"
   ]
  }
 ],
 "metadata": {
  "kernelspec": {
   "display_name": "Python 3.8.5 64-bit ('base': conda)",
   "name": "python385jvsc74a57bd0efbb5f7d76e5561efa460d8a45b55d0b8eb2623c98d4274e36b0d68e9bc5c8fe"
  },
  "language_info": {
   "codemirror_mode": {
    "name": "ipython",
    "version": 3
   },
   "file_extension": ".py",
   "mimetype": "text/x-python",
   "name": "python",
   "nbconvert_exporter": "python",
   "pygments_lexer": "ipython3",
   "version": "3.8.5"
  },
  "orig_nbformat": 2
 },
 "nbformat": 4,
 "nbformat_minor": 2
}