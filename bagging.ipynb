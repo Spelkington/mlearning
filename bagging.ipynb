{
 "cells": [
  {
   "cell_type": "code",
   "execution_count": 1,
   "metadata": {},
   "outputs": [],
   "source": [
    "%reload_ext autoreload\n",
    "%autoreload 2\n",
    "import pandas as pd\n",
    "import numpy as np\n",
    "from splearn.EnsembleLearning.TreeBagger import TreeBagger"
   ]
  },
  {
   "cell_type": "code",
   "execution_count": 2,
   "metadata": {},
   "outputs": [
    {
     "data": {
      "text/html": "<div>\n<style scoped>\n    .dataframe tbody tr th:only-of-type {\n        vertical-align: middle;\n    }\n\n    .dataframe tbody tr th {\n        vertical-align: top;\n    }\n\n    .dataframe thead th {\n        text-align: right;\n    }\n</style>\n<table border=\"1\" class=\"dataframe\">\n  <thead>\n    <tr style=\"text-align: right;\">\n      <th></th>\n      <th>age</th>\n      <th>job</th>\n      <th>marital</th>\n      <th>edu</th>\n      <th>default</th>\n      <th>balance</th>\n      <th>housing</th>\n      <th>loan</th>\n      <th>contact</th>\n      <th>day</th>\n      <th>month</th>\n      <th>duration</th>\n      <th>campaign</th>\n      <th>pdays</th>\n      <th>previous</th>\n      <th>poutcome</th>\n      <th>y</th>\n    </tr>\n  </thead>\n  <tbody>\n    <tr>\n      <th>0</th>\n      <td>41</td>\n      <td>services</td>\n      <td>married</td>\n      <td>secondary</td>\n      <td>no</td>\n      <td>0</td>\n      <td>yes</td>\n      <td>no</td>\n      <td>unknown</td>\n      <td>5</td>\n      <td>may</td>\n      <td>114</td>\n      <td>2</td>\n      <td>-1</td>\n      <td>0</td>\n      <td>unknown</td>\n      <td>no</td>\n    </tr>\n    <tr>\n      <th>1</th>\n      <td>48</td>\n      <td>blue-collar</td>\n      <td>single</td>\n      <td>secondary</td>\n      <td>no</td>\n      <td>312</td>\n      <td>yes</td>\n      <td>yes</td>\n      <td>cellular</td>\n      <td>3</td>\n      <td>feb</td>\n      <td>369</td>\n      <td>2</td>\n      <td>-1</td>\n      <td>0</td>\n      <td>unknown</td>\n      <td>no</td>\n    </tr>\n    <tr>\n      <th>2</th>\n      <td>55</td>\n      <td>technician</td>\n      <td>married</td>\n      <td>secondary</td>\n      <td>no</td>\n      <td>1938</td>\n      <td>no</td>\n      <td>yes</td>\n      <td>cellular</td>\n      <td>18</td>\n      <td>aug</td>\n      <td>193</td>\n      <td>1</td>\n      <td>386</td>\n      <td>3</td>\n      <td>success</td>\n      <td>yes</td>\n    </tr>\n    <tr>\n      <th>3</th>\n      <td>54</td>\n      <td>admin.</td>\n      <td>married</td>\n      <td>tertiary</td>\n      <td>no</td>\n      <td>59</td>\n      <td>yes</td>\n      <td>no</td>\n      <td>cellular</td>\n      <td>10</td>\n      <td>jul</td>\n      <td>268</td>\n      <td>1</td>\n      <td>-1</td>\n      <td>0</td>\n      <td>unknown</td>\n      <td>no</td>\n    </tr>\n    <tr>\n      <th>4</th>\n      <td>34</td>\n      <td>management</td>\n      <td>single</td>\n      <td>tertiary</td>\n      <td>no</td>\n      <td>2646</td>\n      <td>no</td>\n      <td>no</td>\n      <td>cellular</td>\n      <td>14</td>\n      <td>apr</td>\n      <td>142</td>\n      <td>1</td>\n      <td>-1</td>\n      <td>0</td>\n      <td>unknown</td>\n      <td>yes</td>\n    </tr>\n  </tbody>\n</table>\n</div>",
      "text/plain": "   age          job  marital        edu default  balance housing loan  \\\n0   41     services  married  secondary      no        0     yes   no   \n1   48  blue-collar   single  secondary      no      312     yes  yes   \n2   55   technician  married  secondary      no     1938      no  yes   \n3   54       admin.  married   tertiary      no       59     yes   no   \n4   34   management   single   tertiary      no     2646      no   no   \n\n    contact  day month  duration  campaign  pdays  previous poutcome    y  \n0   unknown    5   may       114         2     -1         0  unknown   no  \n1  cellular    3   feb       369         2     -1         0  unknown   no  \n2  cellular   18   aug       193         1    386         3  success  yes  \n3  cellular   10   jul       268         1     -1         0  unknown   no  \n4  cellular   14   apr       142         1     -1         0  unknown  yes  "
     },
     "execution_count": 2,
     "metadata": {},
     "output_type": "execute_result"
    }
   ],
   "source": [
    "train_df = pd.read_csv(\"data/bank/train.csv\")\n",
    "test_df = pd.read_csv(\"data/bank/test.csv\")\n",
    "\n",
    "X_train = train_df[train_df.columns[:-1]]\n",
    "y_train = train_df[train_df.columns[-1]]\n",
    "\n",
    "X_test = test_df[test_df.columns[:-1]]\n",
    "y_test = test_df[test_df.columns[-1]]\n",
    "\n",
    "train_df.head()"
   ]
  },
  {
   "cell_type": "code",
   "execution_count": 5,
   "metadata": {},
   "outputs": [
    {
     "name": "stdout",
     "output_type": "stream",
     "text": [
      "Iteration 1 complete!\n",
      "\t Observation complete!\n",
      "Iteration 2 complete!\n",
      "\t Observation complete!\n",
      "Iteration 3 complete!\n",
      "Iteration 4 complete!\n",
      "\t Observation complete!\n",
      "Iteration 5 complete!\n",
      "Iteration 6 complete!\n",
      "Iteration 7 complete!\n",
      "Iteration 8 complete!\n",
      "\t Observation complete!\n",
      "Experiment complete!\n"
     ]
    }
   ],
   "source": [
    "from splearn.EnsembleLearning.TreeBagger import TreeBagger\n",
    "from splearn.DecisionTree.DecisionTree import DecisionTree\n",
    "import splearn.Metrics as spmet\n",
    "\n",
    "columns = [\n",
    "    \"num_trees\",\n",
    "    \"train_acc\",\n",
    "    \"test_acc\"\n",
    "]\n",
    "\n",
    "num_obs = 10\n",
    "points = [2 ** i for i in range(num_obs)]\n",
    "\n",
    "tb = TreeBagger()\n",
    "tb.train(\n",
    "    X_train,\n",
    "    y_train,\n",
    "    0,\n",
    "    seed = 42,\n",
    "    gain = \"gini\"\n",
    ")\n",
    "\n",
    "data = []\n",
    "\n",
    "for i in points:\n",
    "\n",
    "    while len(tb) < i:\n",
    "        tb.iterate(1)\n",
    "        print(f\"Iteration {len(tb)} complete!\")\n",
    "\n",
    "    p_train = tb.predict(X_train)\n",
    "    p_test  = tb.predict(X_test)\n",
    "\n",
    "    data.append([\n",
    "        i,\n",
    "        spmet.accuracy_score(p_train, y_train),\n",
    "        spmet.accuracy_score(p_test, y_test),\n",
    "    ])\n",
    "\n",
    "    print('\\t', \"Observation complete!\")\n",
    "\n",
    "data = np.array(data)\n",
    "df = pd.DataFrame(data, columns = columns)\n",
    "df.to_csv(\"treebagger.csv\")\n",
    "\n",
    "print(\"Experiment complete!\")"
   ]
  },
  {
   "cell_type": "code",
   "execution_count": 6,
   "metadata": {},
   "outputs": [
    {
     "data": {
      "text/plain": "array([[1.    , 0.8816, 0.8334],\n       [2.    , 0.8452, 0.7828],\n       [4.    , 0.9118, 0.8496],\n       [8.    , 0.9278, 0.874 ]])"
     },
     "execution_count": 6,
     "metadata": {},
     "output_type": "execute_result"
    },
    {
     "data": {
      "image/png": "[encoded data removed]",
      "text/plain": "<Figure size 432x288 with 1 Axes>"
     },
     "metadata": {
      "needs_background": "light"
     },
     "output_type": "display_data"
    }
   ],
   "source": [
    "df.set_index(df.columns[0], inplace = True)\n",
    "df.plot()\n",
    "data"
   ]
  }
 ],
 "metadata": {
  "kernelspec": {
   "display_name": "Python 3.8.5 64-bit ('base': conda)",
   "name": "python385jvsc74a57bd002930c7aac5a013a17f7a5e2f3d24bd2a6c8f8d8b56c68b63b683656891b61ee"
  },
  "language_info": {
   "codemirror_mode": {
    "name": "ipython",
    "version": 3
   },
   "file_extension": ".py",
   "mimetype": "text/x-python",
   "name": "python",
   "nbconvert_exporter": "python",
   "pygments_lexer": "ipython3",
   "version": "3.8.5"
  },
  "orig_nbformat": 2
 },
 "nbformat": 4,
 "nbformat_minor": 2
}